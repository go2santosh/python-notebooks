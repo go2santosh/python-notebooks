{
 "cells": [
  {
   "cell_type": "code",
   "execution_count": null,
   "id": "b69ca184",
   "metadata": {},
   "outputs": [],
   "source": [
    "import numpy as np\n",
    "from sklearn.decomposition import PCA\n",
    "import matplotlib.pyplot as plt\n",
    "from sklearn.datasets import fetch_openml"
   ]
  },
  {
   "cell_type": "code",
   "execution_count": null,
   "id": "728e26d2",
   "metadata": {},
   "outputs": [],
   "source": [
    "# Load the MNIST dataset\n",
    "mnist = fetch_openml('mnist_784', as_frame=False)\n",
    "X = mnist.data\n",
    "y = mnist.target"
   ]
  },
  {
   "cell_type": "code",
   "execution_count": null,
   "id": "6d164fdc",
   "metadata": {},
   "outputs": [],
   "source": [
    "# Standardize the data (important for PCA)\n",
    "X = X / 255.0"
   ]
  },
  {
   "cell_type": "code",
   "execution_count": null,
   "id": "ee74c106",
   "metadata": {},
   "outputs": [],
   "source": [
    "# Set the number of components for PCA\n",
    "n_components = 75  # You can adjust this value"
   ]
  },
  {
   "cell_type": "code",
   "execution_count": null,
   "id": "1d39e802",
   "metadata": {},
   "outputs": [],
   "source": [
    "# Apply PCA\n",
    "pca = PCA(n_components=n_components)\n",
    "X_pca = pca.fit_transform(X)"
   ]
  },
  {
   "cell_type": "code",
   "execution_count": null,
   "id": "804c661b",
   "metadata": {},
   "outputs": [],
   "source": [
    "# Reconstruct the image from the reduced data\n",
    "X_reconstructed = pca.inverse_transform(X_pca)"
   ]
  },
  {
   "cell_type": "code",
   "execution_count": null,
   "id": "255cece0",
   "metadata": {},
   "outputs": [],
   "source": [
    "# Visualize original and reconstructed images\n",
    "def plot_images(original, reconstructed, index):\n",
    "    plt.figure(figsize=(8, 4))\n",
    "    plt.subplot(1, 2, 1)\n",
    "    plt.imshow(original[index].reshape(28, 28), cmap=\"gray\")\n",
    "    plt.title(\"Original\")\n",
    "    plt.subplot(1, 2, 2)\n",
    "    plt.imshow(reconstructed[index].reshape(28, 28), cmap=\"gray\")\n",
    "    plt.title(\"Reconstructed\")\n",
    "    plt.show()"
   ]
  },
  {
   "cell_type": "code",
   "execution_count": null,
   "id": "4debfc6e",
   "metadata": {},
   "outputs": [],
   "source": [
    "# Example: Display the original and reconstructed image at index 0\n",
    "plot_images(X, X_reconstructed, 0)"
   ]
  },
  {
   "cell_type": "code",
   "execution_count": null,
   "id": "8f77070c",
   "metadata": {},
   "outputs": [],
   "source": [
    "# Explained variance ratio\n",
    "explained_variance = pca.explained_variance_ratio_\n",
    "cumulative_variance = np.cumsum(explained_variance)"
   ]
  },
  {
   "cell_type": "code",
   "execution_count": null,
   "id": "21292e6e",
   "metadata": {},
   "outputs": [],
   "source": [
    "# Plot the cumulative explained variance\n",
    "plt.plot(range(1, n_components + 1), cumulative_variance)\n",
    "plt.xlabel('Number of Components')\n",
    "plt.ylabel('Cumulative Explained Variance')\n",
    "plt.title('Cumulative Explained Variance vs. Number of Components')\n",
    "plt.show()"
   ]
  }
 ],
 "metadata": {
  "kernelspec": {
   "display_name": "conda_env",
   "language": "python",
   "name": "python3"
  },
  "language_info": {
   "codemirror_mode": {
    "name": "ipython",
    "version": 3
   },
   "file_extension": ".py",
   "mimetype": "text/x-python",
   "name": "python",
   "nbconvert_exporter": "python",
   "pygments_lexer": "ipython3",
   "version": "3.12.10"
  }
 },
 "nbformat": 4,
 "nbformat_minor": 5
}

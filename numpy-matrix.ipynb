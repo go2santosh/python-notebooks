{
 "cells": [
  {
   "cell_type": "markdown",
   "id": "8e85fb7d",
   "metadata": {},
   "source": [
    "# Matrix Operations\n",
    "Let A is a $m \\times n$ matrix, $B \\in R^3$ a scalar.\n",
    "\n",
    "$Ax=b \\Longrightarrow x = A^{-1}b$"
   ]
  },
  {
   "cell_type": "code",
   "execution_count": null,
   "id": "5c2d63f9",
   "metadata": {},
   "outputs": [],
   "source": [
    "import numpy as np"
   ]
  },
  {
   "cell_type": "code",
   "execution_count": null,
   "id": "312eab66",
   "metadata": {},
   "outputs": [],
   "source": [
    "A = np.matrix([[1,3,2], [3,2,1], [4,1,2]])\n",
    "A"
   ]
  },
  {
   "cell_type": "code",
   "execution_count": null,
   "id": "4a750260",
   "metadata": {},
   "outputs": [],
   "source": [
    "A_inv = np.linalg.inv(A)\n",
    "A_inv"
   ]
  },
  {
   "cell_type": "code",
   "execution_count": null,
   "id": "68048bca",
   "metadata": {},
   "outputs": [],
   "source": [
    "b = np.matrix([8,7,9]).transpose()\n",
    "b"
   ]
  },
  {
   "cell_type": "code",
   "execution_count": null,
   "id": "27b0662a",
   "metadata": {},
   "outputs": [],
   "source": [
    "x = np.dot(A_inv,b)\n",
    "x"
   ]
  },
  {
   "cell_type": "markdown",
   "id": "2826096f",
   "metadata": {},
   "source": [
    "## Eigenvalues and Eigenvectors\n",
    "\n",
    "An eigenvector of a square matrix A is a non-zero vector $\\vec{v}$ such that multiplication by A alters only the scale of $\\vec{v}$:\n",
    "\n",
    "$Av = \\lambda v$"
   ]
  },
  {
   "cell_type": "code",
   "execution_count": null,
   "id": "827e00fa",
   "metadata": {},
   "outputs": [],
   "source": [
    "# obtain 𝜆 and 𝑣\n",
    "scalar_lambda, vector_v = np.linalg.eig(A)\n",
    "scalar_lambda, vector_v"
   ]
  },
  {
   "cell_type": "code",
   "execution_count": null,
   "id": "bb74be84",
   "metadata": {},
   "outputs": [],
   "source": [
    "# print 𝑣_1\n",
    "vector_v[:,0]"
   ]
  },
  {
   "cell_type": "code",
   "execution_count": null,
   "id": "e83af47f",
   "metadata": {},
   "outputs": [],
   "source": [
    "# obtain A * 𝑣_1\n",
    "A_vector_v = A * vector_v[:,0]\n",
    "A_vector_v"
   ]
  },
  {
   "cell_type": "code",
   "execution_count": null,
   "id": "e08344b8",
   "metadata": {},
   "outputs": [],
   "source": [
    "# print 𝜆_1\n",
    "scalar_lambda[0]"
   ]
  },
  {
   "cell_type": "code",
   "execution_count": null,
   "id": "c27158ce",
   "metadata": {},
   "outputs": [],
   "source": [
    "# obtain 𝜆_1 * 𝑣_1\n",
    "evalue_evect = scalar_lambda[0] * vector_v[:,0]\n",
    "evalue_evect"
   ]
  },
  {
   "cell_type": "markdown",
   "id": "d3b29577",
   "metadata": {},
   "source": [
    "## Eigendecomposition\n",
    "\n",
    "$A = V diag(\\lambda) V^{-1}$"
   ]
  },
  {
   "cell_type": "code",
   "execution_count": null,
   "id": "9d918eb1",
   "metadata": {},
   "outputs": [],
   "source": [
    "# diag(𝜆)\n",
    "np.diag(scalar_lambda)"
   ]
  },
  {
   "cell_type": "code",
   "execution_count": null,
   "id": "e63624bc",
   "metadata": {},
   "outputs": [],
   "source": [
    "# 𝑣 * diag(𝜆) * inv(𝑣)\n",
    "v_diag_lambda_v_transpose = vector_v * np.diag(scalar_lambda) * np.linalg.inv(vector_v)\n",
    "v_diag_lambda_v_transpose"
   ]
  },
  {
   "cell_type": "markdown",
   "id": "18caf3ef",
   "metadata": {},
   "source": [
    "## Properties of Eigendecomposition\n",
    "\n",
    "$f(x) = x^{-1} Ax$\n",
    "\n",
    "Whenever x is equal to an eigenvector ofA, f takes on the value of the corresponding eigenvalue."
   ]
  },
  {
   "cell_type": "code",
   "execution_count": null,
   "id": "9eaf5dde",
   "metadata": {},
   "outputs": [],
   "source": [
    "x_inv_a_x = vector_v.T * A * vector_v\n",
    "x_inv_a_x.diagonal()"
   ]
  },
  {
   "cell_type": "markdown",
   "id": "1953ad30",
   "metadata": {},
   "source": [
    "## Singular Value Decomposition\n",
    "\n",
    "Suppose that A is a $m \\times n$ matrix. Then U is defined to be a $m \\times m$ matrix, D to be a $m \\times n$ matrix, and\n",
    "V to be a $n \\times n$ matrix.\n",
    "\n",
    "$A = UDV^T$\n",
    "\n",
    "The columns of U are known as the left-singular vectors. The columns of are known as as the V right-singular vectors.\n",
    "\n",
    "The elements along the diagonal of D are known as the singular values of matrix A."
   ]
  },
  {
   "cell_type": "code",
   "execution_count": null,
   "id": "8037dcc3",
   "metadata": {},
   "outputs": [],
   "source": [
    "# SVD of A\n",
    "U, D, V = np.linalg.svd(A, full_matrices=True)\n",
    "U, D, V"
   ]
  },
  {
   "cell_type": "code",
   "execution_count": null,
   "id": "54040684",
   "metadata": {},
   "outputs": [],
   "source": [
    "# diagonal matrix D\n",
    "np.diag(D)"
   ]
  },
  {
   "cell_type": "code",
   "execution_count": null,
   "id": "2fc3c1cf",
   "metadata": {},
   "outputs": [],
   "source": [
    "# reconstruct A using SVD\n",
    "U * np.diag(D) * V"
   ]
  },
  {
   "cell_type": "code",
   "execution_count": null,
   "id": "53f72c83",
   "metadata": {},
   "outputs": [],
   "source": [
    "# The left-singular vectors of A are the eigenvectors of A * A^T\n",
    "_, left_singular_vectors = np.linalg.eig(A * A.T)\n",
    "left_singular_vectors"
   ]
  },
  {
   "cell_type": "code",
   "execution_count": null,
   "id": "680b5eca",
   "metadata": {},
   "outputs": [],
   "source": [
    "# The right-singular vectors of A are the eigenvectors of A^T * A\n",
    "_, right_singular_vectors = np.linalg.eig(A.T * A)\n",
    "right_singular_vectors.T"
   ]
  },
  {
   "cell_type": "code",
   "execution_count": null,
   "id": "3e21709e",
   "metadata": {},
   "outputs": [],
   "source": [
    "# The non-zero singular values of A are the square roots of the eigenvalues of A.T * A (and A * A.T)\n",
    "singular_values = np.sqrt(np.linalg.eigvals(A.T * A))\n",
    "singular_values"
   ]
  },
  {
   "cell_type": "markdown",
   "id": "80aca16a",
   "metadata": {},
   "source": [
    "## The Determinant\n",
    "\n",
    "The determinant is equal to the product of all the eigenvalues of the matrix. "
   ]
  },
  {
   "cell_type": "code",
   "execution_count": null,
   "id": "dc64a553",
   "metadata": {},
   "outputs": [],
   "source": [
    "det_A = np.linalg.det(A)\n",
    "det_A"
   ]
  },
  {
   "cell_type": "code",
   "execution_count": null,
   "id": "8e220a31",
   "metadata": {},
   "outputs": [],
   "source": [
    "# multiplication of eigenvalues\n",
    "eigenvalue_product = np.prod(scalar_lambda)\n",
    "eigenvalue_product"
   ]
  },
  {
   "cell_type": "markdown",
   "id": "eeee957c",
   "metadata": {},
   "source": [
    "## Visualizing Matrix"
   ]
  },
  {
   "cell_type": "code",
   "execution_count": null,
   "id": "cf65041d",
   "metadata": {},
   "outputs": [],
   "source": [
    "import numpy as np\n",
    "import matplotlib.pyplot as plt\n",
    "from mpl_toolkits.mplot3d import Axes3D\n",
    "\n",
    "def plot_plane(points):\n",
    "    # Calculate the normal vector of the plane\n",
    "    points = np.array(points)\n",
    "    v1 = points[1] - points[0]\n",
    "    v2 = points[2] - points[0]\n",
    "    normal = np.cross(v1, v2)\n",
    "\n",
    "    # Create a grid of points on the plane\n",
    "    x, y = np.meshgrid(np.arange(-5, 5, 0.5), np.arange(-5, 5, 0.5))\n",
    "    z = (-normal[0] * x - normal[1] * y + np.dot(normal, points[0])) / normal[2]\n",
    "\n",
    "    # Plot the plane and the points\n",
    "    fig = plt.figure()\n",
    "    ax = fig.add_subplot(111, projection='3d')\n",
    "    ax.plot_surface(x, y, z, alpha=0.5)\n",
    "    ax.scatter(points[:, 0], points[:, 1], points[:, 2], color='red')\n",
    "\n",
    "    # Set the labels and title\n",
    "    ax.set_xlabel('X')\n",
    "    ax.set_ylabel('Y')\n",
    "    ax.set_zlabel('Z')\n",
    "    ax.set_title('3D Plane Through Three Points')\n",
    "\n",
    "    # Show the plot\n",
    "    plt.show()"
   ]
  },
  {
   "cell_type": "code",
   "execution_count": null,
   "id": "1dda3658",
   "metadata": {},
   "outputs": [],
   "source": [
    "# Define the three points\n",
    "plot_plane(A.T)"
   ]
  },
  {
   "cell_type": "code",
   "execution_count": null,
   "id": "3c56246b",
   "metadata": {},
   "outputs": [],
   "source": [
    "A.T"
   ]
  }
 ],
 "metadata": {
  "kernelspec": {
   "display_name": "conda_env",
   "language": "python",
   "name": "python3"
  },
  "language_info": {
   "codemirror_mode": {
    "name": "ipython",
    "version": 3
   },
   "file_extension": ".py",
   "mimetype": "text/x-python",
   "name": "python",
   "nbconvert_exporter": "python",
   "pygments_lexer": "ipython3",
   "version": "3.12.9"
  }
 },
 "nbformat": 4,
 "nbformat_minor": 5
}

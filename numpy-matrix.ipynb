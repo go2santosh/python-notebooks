{
 "cells": [
  {
   "cell_type": "markdown",
   "id": "8e85fb7d",
   "metadata": {},
   "source": [
    "# Matrix Operations\n",
    "Let A is a $m \\times n$ matrix, $B \\in R^3$ a scalar.\n",
    "\n",
    "$Ax=b \\Longrightarrow x = A^{-1}b$"
   ]
  },
  {
   "cell_type": "code",
   "execution_count": 1,
   "id": "5c2d63f9",
   "metadata": {},
   "outputs": [],
   "source": [
    "import numpy as np"
   ]
  },
  {
   "cell_type": "code",
   "execution_count": 2,
   "id": "312eab66",
   "metadata": {},
   "outputs": [
    {
     "data": {
      "text/plain": [
       "matrix([[1, 3, 2],\n",
       "        [3, 2, 1],\n",
       "        [4, 1, 2]])"
      ]
     },
     "execution_count": 2,
     "metadata": {},
     "output_type": "execute_result"
    }
   ],
   "source": [
    "A = np.matrix([[1,3,2], [3,2,1], [4,1,2]])\n",
    "A"
   ]
  },
  {
   "cell_type": "code",
   "execution_count": 3,
   "id": "4a750260",
   "metadata": {},
   "outputs": [
    {
     "data": {
      "text/plain": [
       "matrix([[-0.23076923,  0.30769231,  0.07692308],\n",
       "        [ 0.15384615,  0.46153846, -0.38461538],\n",
       "        [ 0.38461538, -0.84615385,  0.53846154]])"
      ]
     },
     "execution_count": 3,
     "metadata": {},
     "output_type": "execute_result"
    }
   ],
   "source": [
    "A_inv = np.linalg.inv(A)\n",
    "A_inv"
   ]
  },
  {
   "cell_type": "code",
   "execution_count": 4,
   "id": "68048bca",
   "metadata": {},
   "outputs": [
    {
     "data": {
      "text/plain": [
       "matrix([[8],\n",
       "        [7],\n",
       "        [9]])"
      ]
     },
     "execution_count": 4,
     "metadata": {},
     "output_type": "execute_result"
    }
   ],
   "source": [
    "b = np.matrix([8,7,9]).transpose()\n",
    "b"
   ]
  },
  {
   "cell_type": "code",
   "execution_count": 5,
   "id": "27b0662a",
   "metadata": {},
   "outputs": [
    {
     "data": {
      "text/plain": [
       "matrix([[1.],\n",
       "        [1.],\n",
       "        [2.]])"
      ]
     },
     "execution_count": 5,
     "metadata": {},
     "output_type": "execute_result"
    }
   ],
   "source": [
    "x = np.dot(A_inv,b)\n",
    "x"
   ]
  },
  {
   "cell_type": "markdown",
   "id": "2826096f",
   "metadata": {},
   "source": [
    "## Eigenvalues and Eigenvectors\n",
    "\n",
    "An eigenvector of a square matrix A is a non-zero vector $\\vec{v}$ such that multiplication by A alters only the scale of $\\vec{v}$:\n",
    "\n",
    "$Av = \\lambda v$"
   ]
  },
  {
   "cell_type": "code",
   "execution_count": 6,
   "id": "827e00fa",
   "metadata": {},
   "outputs": [
    {
     "data": {
      "text/plain": [
       "(array([ 6.26496597, -2.20571722,  0.94075125]),\n",
       " matrix([[ 0.54912336,  0.7156141 , -0.08186527],\n",
       "         [ 0.53650412, -0.36951906, -0.55171846],\n",
       "         [ 0.64080173, -0.59274963,  0.8300029 ]]))"
      ]
     },
     "execution_count": 6,
     "metadata": {},
     "output_type": "execute_result"
    }
   ],
   "source": [
    "# obtain 𝜆 and 𝑣\n",
    "scalar_lambda, vector_v = np.linalg.eig(A)\n",
    "scalar_lambda, vector_v"
   ]
  },
  {
   "cell_type": "code",
   "execution_count": 12,
   "id": "bb74be84",
   "metadata": {},
   "outputs": [
    {
     "data": {
      "text/plain": [
       "matrix([[0.54912336],\n",
       "        [0.53650412],\n",
       "        [0.64080173]])"
      ]
     },
     "execution_count": 12,
     "metadata": {},
     "output_type": "execute_result"
    }
   ],
   "source": [
    "# print 𝑣_1\n",
    "vector_v[:,0]"
   ]
  },
  {
   "cell_type": "code",
   "execution_count": 13,
   "id": "e83af47f",
   "metadata": {},
   "outputs": [
    {
     "data": {
      "text/plain": [
       "matrix([[3.44023919],\n",
       "        [3.36118007],\n",
       "        [4.01460104]])"
      ]
     },
     "execution_count": 13,
     "metadata": {},
     "output_type": "execute_result"
    }
   ],
   "source": [
    "# obtain A * 𝑣_1\n",
    "A_vector_v = A * vector_v[:,0]\n",
    "A_vector_v"
   ]
  },
  {
   "cell_type": "code",
   "execution_count": 9,
   "id": "e08344b8",
   "metadata": {},
   "outputs": [
    {
     "data": {
      "text/plain": [
       "6.26496597299326"
      ]
     },
     "execution_count": 9,
     "metadata": {},
     "output_type": "execute_result"
    }
   ],
   "source": [
    "# print 𝜆_1\n",
    "scalar_lambda[0]"
   ]
  },
  {
   "cell_type": "code",
   "execution_count": 14,
   "id": "c27158ce",
   "metadata": {},
   "outputs": [
    {
     "data": {
      "text/plain": [
       "matrix([[3.44023919],\n",
       "        [3.36118007],\n",
       "        [4.01460104]])"
      ]
     },
     "execution_count": 14,
     "metadata": {},
     "output_type": "execute_result"
    }
   ],
   "source": [
    "# obtain 𝜆_1 * 𝑣_1\n",
    "evalue_evect = scalar_lambda[0] * vector_v[:,0]\n",
    "evalue_evect"
   ]
  },
  {
   "cell_type": "code",
   "execution_count": null,
   "id": "d3b29577",
   "metadata": {},
   "outputs": [],
   "source": []
  }
 ],
 "metadata": {
  "kernelspec": {
   "display_name": "Python 3 (ipykernel)",
   "language": "python",
   "name": "python3"
  },
  "language_info": {
   "codemirror_mode": {
    "name": "ipython",
    "version": 3
   },
   "file_extension": ".py",
   "mimetype": "text/x-python",
   "name": "python",
   "nbconvert_exporter": "python",
   "pygments_lexer": "ipython3",
   "version": "3.8.18"
  }
 },
 "nbformat": 4,
 "nbformat_minor": 5
}

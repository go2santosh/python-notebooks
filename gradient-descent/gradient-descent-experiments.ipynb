{
 "cells": [
  {
   "cell_type": "markdown",
   "metadata": {},
   "source": [
    "# Gradient Descent Experiments"
   ]
  },
  {
   "cell_type": "code",
   "execution_count": null,
   "metadata": {},
   "outputs": [],
   "source": [
    "import numpy as np\n",
    "import matplotlib.pyplot as plt\n",
    "import sympy as sym\n",
    "\n",
    "from IPython import display\n",
    "display.set_matplotlib_formats('svg')"
   ]
  },
  {
   "cell_type": "code",
   "execution_count": 49,
   "metadata": {},
   "outputs": [],
   "source": [
    "# Define the symbolic variable\n",
    "x_sym = sym.symbols('x')\n",
    "\n",
    "# Define the function\n",
    "fx_sym = sym.sin(x_sym) * sym.exp(-x_sym**2 * 0.05)\n",
    "\n",
    "# Compute the derivative\n",
    "deriv_fx_sym = sym.diff(fx_sym, x_sym)\n",
    "\n",
    "# Convert the symbolic functions to numerical functions\n",
    "fx = sym.lambdify(x_sym, fx_sym, 'numpy')\n",
    "deriv_fx = sym.lambdify(x_sym, deriv_fx_sym, 'numpy')\n",
    "\n",
    "# Generate a range of x values\n",
    "x = np.linspace(-2 * np.pi, 2 * np.pi, 401)\n",
    "\n",
    "# Compute the corresponding y values\n",
    "y_fx = fx(x)\n",
    "y_deriv_fx = deriv_fx(x)"
   ]
  },
  {
   "cell_type": "code",
   "execution_count": null,
   "metadata": {},
   "outputs": [],
   "source": [
    "# Plot the functions\n",
    "plt.plot(x, y_fx, label='fx(x)')\n",
    "plt.plot(x, y_deriv_fx, label='deriv_fx(x)', linestyle='--')\n",
    "plt.title('Visualization of fx(x) and its derivative')\n",
    "plt.xlabel('x')\n",
    "plt.ylabel('y')\n",
    "plt.legend()\n",
    "plt.grid(True)\n",
    "plt.show()"
   ]
  },
  {
   "cell_type": "code",
   "execution_count": null,
   "metadata": {},
   "outputs": [],
   "source": [
    "# Pick a random staring point on x\n",
    "local_minima = np.random.choice(x, 1)\n",
    "start_point = local_minima\n",
    "\n",
    "# Learning parameters\n",
    "learning_rate = 0.01\n",
    "training_epochs = 1000\n",
    "\n",
    "# Training\n",
    "trajectory = np.zeros((training_epochs))\n",
    "for i in range(training_epochs):\n",
    "    gradient = deriv_fx(local_minima)\n",
    "    local_minima = local_minima - learning_rate * gradient\n",
    "    trajectory[i] = local_minima"
   ]
  },
  {
   "cell_type": "code",
   "execution_count": null,
   "metadata": {},
   "outputs": [],
   "source": [
    "# Plot the trajectory, fx(x) and its derivative\n",
    "plt.plot(x, y_fx, label='fx(x)')\n",
    "plt.plot(x, y_deriv_fx, label='deriv_fx(x)', linestyle='--')\n",
    "plt.scatter(trajectory, fx(trajectory), color='red', label='Trajectory')\n",
    "plt.scatter(trajectory[0], fx(trajectory[0]), color='blue', label='Trajectory Start')\n",
    "plt.scatter(trajectory[-1], fx(trajectory[-1]), color='green', label='Trajectory End')\n",
    "plt.title('Visualization of fx(x) and its derivative')\n",
    "plt.xlabel('x')\n",
    "plt.ylabel('y')\n",
    "plt.legend()\n",
    "plt.grid(True)\n",
    "plt.show()\n"
   ]
  },
  {
   "cell_type": "code",
   "execution_count": 55,
   "metadata": {},
   "outputs": [],
   "source": [
    "# Relation between the learning rate and the training epochs\n",
    "\n",
    "# Learning parameters\n",
    "learning_rates = np.linspace(1e-10, 1e-1, 40)\n",
    "training_epochs = np.round(np.linspace(10, 500, 40))\n",
    "\n",
    "# Initialize a matrix to store the results\n",
    "results = np.zeros((len(learning_rates), len(training_epochs)))\n",
    "\n",
    "# Loop over the learning rates\n",
    "for i, learning_rate in enumerate(learning_rates):\n",
    "    # Loop over the training epochs\n",
    "    for j, training_epoch in enumerate(training_epochs):\n",
    "        # Pick a random staring point on x\n",
    "        local_minima = 0\n",
    "\n",
    "        # Training\n",
    "        for k in range(int(training_epoch)):\n",
    "            gradient = deriv_fx(local_minima)\n",
    "            local_minima = local_minima - learning_rate * gradient\n",
    "\n",
    "        results[i, j] = local_minima\n"
   ]
  },
  {
   "cell_type": "code",
   "execution_count": null,
   "metadata": {},
   "outputs": [],
   "source": [
    "# Plot the results\n",
    "fig, ax = plt.subplots(figsize=(7, 4))\n",
    "\n",
    "plt.imshow(results, extent=[learning_rates[0], learning_rates[-1], training_epochs[0], training_epochs[-1]],\n",
    "           aspect='auto', origin='lower')\n",
    "plt.xlabel('Learning Rate')\n",
    "plt.ylabel('Training Epochs')\n",
    "plt.title('Final guess')\n",
    "plt.colorbar()\n",
    "plt.grid(True)\n",
    "plt.show()"
   ]
  }
 ],
 "metadata": {
  "kernelspec": {
   "display_name": ".venv",
   "language": "python",
   "name": "python3"
  },
  "language_info": {
   "codemirror_mode": {
    "name": "ipython",
    "version": 3
   },
   "file_extension": ".py",
   "mimetype": "text/x-python",
   "name": "python",
   "nbconvert_exporter": "python",
   "pygments_lexer": "ipython3",
   "version": "3.10.12"
  }
 },
 "nbformat": 4,
 "nbformat_minor": 2
}

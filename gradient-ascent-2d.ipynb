{
 "cells": [
  {
   "cell_type": "markdown",
   "metadata": {},
   "source": [
    "# Gradient Ascent in 2D"
   ]
  },
  {
   "cell_type": "code",
   "execution_count": null,
   "metadata": {},
   "outputs": [],
   "source": [
    "import numpy as np\n",
    "import matplotlib.pyplot as plt\n",
    "import sympy as sym\n",
    "\n",
    "from IPython import display\n",
    "display.set_matplotlib_formats('svg')"
   ]
  },
  {
   "cell_type": "code",
   "execution_count": 90,
   "metadata": {},
   "outputs": [],
   "source": [
    "# A peaksfunction\n",
    "def peaks(x, y):\n",
    "    # Expand to a 2D mesh\n",
    "    x, y = np.meshgrid(x, y)\n",
    "\n",
    "    # Define functions using np\n",
    "    z = 3 * (1 - x) ** 2 * np.exp(-(x ** 2) - (y + 1) ** 2) \\\n",
    "        - 10 * (x / 5 - x ** 3 - y ** 5) * np.exp(-x ** 2 - y ** 2) \\\n",
    "        - 1/3 * np.exp(-(x + 1) ** 2 - y ** 2)\n",
    "    \n",
    "    return z"
   ]
  },
  {
   "cell_type": "code",
   "execution_count": 91,
   "metadata": {},
   "outputs": [],
   "source": [
    "# Create the landscape\n",
    "x = np.linspace(-3, 3, 201)\n",
    "y = np.linspace(-3, 3, 201)\n",
    "\n",
    "Z = peaks(x, y)"
   ]
  },
  {
   "cell_type": "code",
   "execution_count": null,
   "metadata": {},
   "outputs": [],
   "source": [
    "# Visualize\n",
    "plt.imshow(Z, extent=[x[0], x[-1], y[0], y[-1]], vmin=-5, vmax=5, origin='lower')\n",
    "plt.show()"
   ]
  },
  {
   "cell_type": "code",
   "execution_count": 93,
   "metadata": {},
   "outputs": [],
   "source": [
    "# Create a derivative function using sympy\n",
    "sx, sy = sym.symbols('sx,sy')\n",
    "\n",
    "sZ = 3 * (1 - sx) ** 2 * sym.exp(-(sx ** 2) - (sy + 1) ** 2) \\\n",
    "        - 10 * (sx / 5 - sx ** 3 - sy ** 5) * sym.exp(-sx ** 2 - sy ** 2) \\\n",
    "        - 1/3 * sym.exp(-(sx + 1) ** 2 - sy ** 2)\n",
    "\n",
    "# Create derivative functions using sympy\n",
    "df_x = sym.lambdify((sx, sy), sym.diff(sZ, sx), 'sympy')\n",
    "df_y = sym.lambdify((sx, sy), sym.diff(sZ, sy), 'sympy')"
   ]
  },
  {
   "cell_type": "code",
   "execution_count": null,
   "metadata": {},
   "outputs": [],
   "source": [
    "df_x(1, 1).evalf()"
   ]
  },
  {
   "cell_type": "code",
   "execution_count": null,
   "metadata": {},
   "outputs": [],
   "source": [
    "# Random starting point between -2 and 2\n",
    "local_minima = np.random.rand(2) * 4 - 2\n",
    "start_point = local_minima[:]\n",
    "\n",
    "# Learning parameters\n",
    "learning_rate = 0.01\n",
    "training_epochs = 1000\n",
    "\n",
    "# Training\n",
    "trajectory = np.zeros((training_epochs, 2))\n",
    "for i in range(training_epochs):\n",
    "    gradient = np.array([df_x(local_minima[0], local_minima[1]).evalf(),\n",
    "                         df_y(local_minima[0], local_minima[1]).evalf()])\n",
    "    local_minima = local_minima + learning_rate * gradient\n",
    "    trajectory[i, :] = local_minima\n",
    "\n",
    "print(local_minima)\n",
    "print(start_point)"
   ]
  },
  {
   "cell_type": "code",
   "execution_count": null,
   "metadata": {},
   "outputs": [],
   "source": [
    "# Visualize\n",
    "plt.imshow(Z, extent=[x[0], x[-1], y[0], y[-1]], vmin=-5, vmax=5, origin='lower')\n",
    "plt.plot(start_point[0], start_point[1], 'bs')\n",
    "plt.plot(local_minima[0], local_minima[1], 'ro')\n",
    "plt.plot(trajectory[:, 0], trajectory[:, 1], 'r')\n",
    "plt.legend(['rnd start', 'local max'])\n",
    "plt.colorbar()\n",
    "plt.show()"
   ]
  }
 ],
 "metadata": {
  "kernelspec": {
   "display_name": ".venv",
   "language": "python",
   "name": "python3"
  },
  "language_info": {
   "codemirror_mode": {
    "name": "ipython",
    "version": 3
   },
   "file_extension": ".py",
   "mimetype": "text/x-python",
   "name": "python",
   "nbconvert_exporter": "python",
   "pygments_lexer": "ipython3",
   "version": "3.10.12"
  }
 },
 "nbformat": 4,
 "nbformat_minor": 2
}
